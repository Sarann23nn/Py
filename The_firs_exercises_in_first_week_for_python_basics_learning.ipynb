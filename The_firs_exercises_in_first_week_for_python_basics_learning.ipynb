{
  "nbformat": 4,
  "nbformat_minor": 0,
  "metadata": {
    "colab": {
      "provenance": [],
      "authorship_tag": "ABX9TyME2/sgi1YMKCEGYgwSxKUZ",
      "include_colab_link": true
    },
    "kernelspec": {
      "name": "python3",
      "display_name": "Python 3"
    },
    "language_info": {
      "name": "python"
    }
  },
  "cells": [
    {
      "cell_type": "markdown",
      "metadata": {
        "id": "view-in-github",
        "colab_type": "text"
      },
      "source": [
        "<a href=\"https://colab.research.google.com/github/Sarann23nn/Py/blob/main/The_firs_exercises_in_first_week_for_python_basics_learning.ipynb\" target=\"_parent\"><img src=\"https://colab.research.google.com/assets/colab-badge.svg\" alt=\"Open In Colab\"/></a>"
      ]
    },
    {
      "cell_type": "code",
      "source": [
        "mile = 5280\n",
        "\n",
        "print( 13 * mile)"
      ],
      "metadata": {
        "colab": {
          "base_uri": "https://localhost:8080/"
        },
        "id": "tKPCP8w4_g_O",
        "outputId": "6f054cd2-3d9e-45e3-80cb-626f8108a91d"
      },
      "execution_count": 2,
      "outputs": [
        {
          "output_type": "stream",
          "name": "stdout",
          "text": [
            "68640\n"
          ]
        }
      ]
    },
    {
      "cell_type": "code",
      "source": [
        "# The coding in other method\n",
        "miles = 13\n",
        "feet_per_mile = 5280\n",
        "total_feet = miles * feet_per_mile\n",
        "print(f\"{miles} miles contain {total_feet} feet.\")"
      ],
      "metadata": {
        "colab": {
          "base_uri": "https://localhost:8080/"
        },
        "id": "gEwdkBwwApyQ",
        "outputId": "f6f94f23-5c3c-4ba5-887a-d9ae884fa940"
      },
      "execution_count": 4,
      "outputs": [
        {
          "output_type": "stream",
          "name": "stdout",
          "text": [
            "13 miles contain 68640 feet.\n"
          ]
        }
      ]
    },
    {
      "cell_type": "code",
      "source": [
        "second = 1\n",
        "minute = 60 * second\n",
        "hour = 60 * minute\n",
        "print( f\"{(7* hour ) + (21 * minute) + ( 37 * second )} seconds \" )"
      ],
      "metadata": {
        "colab": {
          "base_uri": "https://localhost:8080/"
        },
        "id": "J95GlwMaBSy8",
        "outputId": "d308a182-d60e-45f2-c9f9-7b3371a87c76"
      },
      "execution_count": 6,
      "outputs": [
        {
          "output_type": "stream",
          "name": "stdout",
          "text": [
            "26497 seconds \n"
          ]
        }
      ]
    },
    {
      "cell_type": "code",
      "source": [
        "# calculates perimeter of a rectangle\n",
        "w = 4\n",
        "h = 7\n",
        "print( f\" perimeter of rectangle is {2 * (w + h)} \")\n",
        "print(\"\")\n",
        "print( f\" area of rectangle is { w * h}\")"
      ],
      "metadata": {
        "colab": {
          "base_uri": "https://localhost:8080/"
        },
        "id": "leguBfUQDcQ3",
        "outputId": "17f81243-013e-4afb-cd50-c6c6472f6851"
      },
      "execution_count": 8,
      "outputs": [
        {
          "output_type": "stream",
          "name": "stdout",
          "text": [
            " perimeter of rectangle is 22 \n",
            "\n",
            " area of rectangle is 28\n"
          ]
        }
      ]
    },
    {
      "cell_type": "code",
      "source": [
        "# finding the circumference of a circle\n",
        "r = 8\n",
        "pi = 3.14\n",
        "print( f\"circumference of a circle is {2 * pi * r}\")\n",
        "print(\"\")\n",
        "print( f\" area of a circle is { (pi * r)**2}\")"
      ],
      "metadata": {
        "colab": {
          "base_uri": "https://localhost:8080/"
        },
        "id": "71ln1TBDFFW0",
        "outputId": "d57346ca-1c16-4f42-bddd-1e03f78ec2e2"
      },
      "execution_count": 10,
      "outputs": [
        {
          "output_type": "stream",
          "name": "stdout",
          "text": [
            "circumference of circle is 50.24\n",
            "\n",
            " area of a circle is 631.0144\n"
          ]
        }
      ]
    },
    {
      "cell_type": "code",
      "source": [
        "# just we'll finding future value for fun\n",
        "p = 1000\n",
        "r = 7\n",
        "y = 10\n",
        "future_value = p*(1+0.01*r)**y\n",
        "print(f\"The future value is { future_value}\")"
      ],
      "metadata": {
        "colab": {
          "base_uri": "https://localhost:8080/"
        },
        "id": "3OE4g6AyHU-u",
        "outputId": "56e0069f-a7f7-47c5-eaeb-11e19cd4342e"
      },
      "execution_count": 14,
      "outputs": [
        {
          "output_type": "stream",
          "name": "stdout",
          "text": [
            "The future value is 1967.1513572895665\n"
          ]
        }
      ]
    },
    {
      "cell_type": "code",
      "source": [
        "# Trying in write a single python statement that combines the three strings\n",
        "print( \"my name is \" + \"joe\" + \" \" + \"warren\" + \".\")\n",
        "print(\"\")\n",
        "print(\"someone say that:\")\n",
        "print ( f\" joe warren is {56} years old\")"
      ],
      "metadata": {
        "colab": {
          "base_uri": "https://localhost:8080/"
        },
        "id": "QBCHReKaHpjU",
        "outputId": "dfeef6b3-a75f-4ea2-84bb-f01564c7193f"
      },
      "execution_count": 21,
      "outputs": [
        {
          "output_type": "stream",
          "name": "stdout",
          "text": [
            "my name is joe warren.\n",
            "\n",
            "someone say that:\n",
            " joe warren is 56 years old\n"
          ]
        }
      ]
    },
    {
      "cell_type": "code",
      "source": [
        "x_0 = 2\n",
        "y_0 = 2\n",
        "x_1 = 5\n",
        "y_1 = 6\n",
        "print(f\" the distance between two points is {(((x_0 - x_1)**2) + ((y_0 - y_1)**2))**0.5}\")"
      ],
      "metadata": {
        "colab": {
          "base_uri": "https://localhost:8080/"
        },
        "id": "8Hz-1AznKCa8",
        "outputId": "4fac7154-f4cd-4ea3-9c09-aefa3f867d6d"
      },
      "execution_count": 25,
      "outputs": [
        {
          "output_type": "stream",
          "name": "stdout",
          "text": [
            " the distance between two points is 5.0\n"
          ]
        }
      ]
    }
  ]
}